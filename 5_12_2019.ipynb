{
  "nbformat": 4,
  "nbformat_minor": 0,
  "metadata": {
    "colab": {
      "name": "5-12-2019.ipynb",
      "provenance": [],
      "collapsed_sections": [],
      "include_colab_link": true
    },
    "kernelspec": {
      "name": "python3",
      "display_name": "Python 3"
    }
  },
  "cells": [
    {
      "cell_type": "markdown",
      "metadata": {
        "id": "view-in-github",
        "colab_type": "text"
      },
      "source": [
        "<a href=\"https://colab.research.google.com/github/venkat34/trainingprogram-crt/blob/master/5_12_2019.ipynb\" target=\"_parent\"><img src=\"https://colab.research.google.com/assets/colab-badge.svg\" alt=\"Open In Colab\"/></a>"
      ]
    },
    {
      "cell_type": "markdown",
      "metadata": {
        "id": "6KwjHuGdJ_Ti",
        "colab_type": "text"
      },
      "source": [
        "## LIST AND LIST RELATED EXAMPLES\n"
      ]
    },
    {
      "cell_type": "code",
      "metadata": {
        "id": "x3bskXuEL4zQ",
        "colab_type": "code",
        "outputId": "50bb8b37-935a-4a75-e993-e510a65632d4",
        "colab": {
          "base_uri": "https://localhost:8080/",
          "height": 34
        }
      },
      "source": [
        "li = [1,2,3,4,5]\n",
        "print(len(li))  # len() which will return the length of list"
      ],
      "execution_count": 0,
      "outputs": [
        {
          "output_type": "stream",
          "text": [
            "5\n"
          ],
          "name": "stdout"
        }
      ]
    },
    {
      "cell_type": "code",
      "metadata": {
        "id": "vEc-KDBJMBpi",
        "colab_type": "code",
        "outputId": "571669a1-f9cd-4061-f183-7f61f66ba74a",
        "colab": {
          "base_uri": "https://localhost:8080/",
          "height": 34
        }
      },
      "source": [
        "li[2]=23425  # update list item value\n",
        "print(li)"
      ],
      "execution_count": 0,
      "outputs": [
        {
          "output_type": "stream",
          "text": [
            "[1, 2, 23425, 4, 5]\n"
          ],
          "name": "stdout"
        }
      ]
    },
    {
      "cell_type": "code",
      "metadata": {
        "id": "v2Xruq_XNTz7",
        "colab_type": "code",
        "outputId": "d8c654c8-7b05-4b18-d213-02645bfc1304",
        "colab": {
          "base_uri": "https://localhost:8080/",
          "height": 34
        }
      },
      "source": [
        "del li[1]    # del li[] = deletes the list value\n",
        "print (li)   # del li = deletes the entire list"
      ],
      "execution_count": 0,
      "outputs": [
        {
          "output_type": "stream",
          "text": [
            "[1, 23425, 4, 5]\n"
          ],
          "name": "stdout"
        }
      ]
    },
    {
      "cell_type": "code",
      "metadata": {
        "id": "GGYfrIl7Nb8h",
        "colab_type": "code",
        "outputId": "7e86aeef-217b-4334-c5e2-d6bf98390cc0",
        "colab": {
          "base_uri": "https://localhost:8080/",
          "height": 34
        }
      },
      "source": [
        "print (len(li))"
      ],
      "execution_count": 0,
      "outputs": [
        {
          "output_type": "stream",
          "text": [
            "5\n"
          ],
          "name": "stdout"
        }
      ]
    },
    {
      "cell_type": "code",
      "metadata": {
        "id": "q4qYrin0OLNX",
        "colab_type": "code",
        "outputId": "f9b6d9ae-3cd7-41b8-b435-285fdda6a33c",
        "colab": {
          "base_uri": "https://localhost:8080/",
          "height": 119
        }
      },
      "source": [
        "print(li[:])\n",
        "print(li[::-1])\n",
        "print (li[1])\n",
        "print(li[-4])\n",
        "print(li[1:3])\n",
        "print(li[-4:-2])"
      ],
      "execution_count": 0,
      "outputs": [
        {
          "output_type": "stream",
          "text": [
            "[1, 2, 23425, 4, 5]\n",
            "[5, 4, 23425, 2, 1]\n",
            "2\n",
            "2\n",
            "[2, 23425]\n",
            "[2, 23425]\n"
          ],
          "name": "stdout"
        }
      ]
    },
    {
      "cell_type": "code",
      "metadata": {
        "id": "XC5ZzddzQtJH",
        "colab_type": "code",
        "outputId": "911c994c-1d54-4214-b60a-dde8f016587f",
        "colab": {
          "base_uri": "https://localhost:8080/",
          "height": 102
        }
      },
      "source": [
        "### methods of list\n",
        "print(len(li))  # length of list\n",
        "print(sum(li))  # sum of list\n",
        "print(min(li))  # min value of list\n",
        "print(max(li))  # max value of list\n",
        "print(sum(li)//len(li))  # avg of list"
      ],
      "execution_count": 0,
      "outputs": [
        {
          "output_type": "stream",
          "text": [
            "5\n",
            "21\n",
            "1\n",
            "9\n",
            "4\n"
          ],
          "name": "stdout"
        }
      ]
    },
    {
      "cell_type": "code",
      "metadata": {
        "id": "ZSWU-_SNR-qL",
        "colab_type": "code",
        "outputId": "e89b4465-4e88-4043-c1f2-d7fa5a5b5920",
        "colab": {
          "base_uri": "https://localhost:8080/",
          "height": 51
        }
      },
      "source": [
        "li[-3]=9\n",
        "print(li)\n",
        "print(max(li))"
      ],
      "execution_count": 0,
      "outputs": [
        {
          "output_type": "stream",
          "text": [
            "[1, 2, 9, 4, 5]\n",
            "9\n"
          ],
          "name": "stdout"
        }
      ]
    },
    {
      "cell_type": "code",
      "metadata": {
        "id": "jdcNcvdPVRM5",
        "colab_type": "code",
        "outputId": "34bff01b-a641-4694-ef90-0699a7846bda",
        "colab": {
          "base_uri": "https://localhost:8080/",
          "height": 34
        }
      },
      "source": [
        "li.append(200)   # append will insert the new list at the end(THE NUMBER OF TIMES WE RUN IT KEEPS ON ADDING)\n",
        "li"
      ],
      "execution_count": 0,
      "outputs": [
        {
          "output_type": "execute_result",
          "data": {
            "text/plain": [
              "[1, 2, 5, 9, 69, 69, 200, 200, 200, 200, 200, 200]"
            ]
          },
          "metadata": {
            "tags": []
          },
          "execution_count": 55
        }
      ]
    },
    {
      "cell_type": "code",
      "metadata": {
        "id": "j71ssuBZUptT",
        "colab_type": "code",
        "outputId": "42d57bda-b33f-46c7-ee9b-6f111bf74383",
        "colab": {
          "base_uri": "https://localhost:8080/",
          "height": 34
        }
      },
      "source": [
        "li.insert(2,69)  # insert the new item at any specified position (THE NUMBER OF TIMES WE RUN IT KEEPS ON ADDING)\n",
        "li"
      ],
      "execution_count": 0,
      "outputs": [
        {
          "output_type": "execute_result",
          "data": {
            "text/plain": [
              "[1, 2, 69, 5, 9, 69, 69, 200, 200, 200, 200, 200, 200]"
            ]
          },
          "metadata": {
            "tags": []
          },
          "execution_count": 56
        }
      ]
    },
    {
      "cell_type": "code",
      "metadata": {
        "id": "puaNMf8pVQp9",
        "colab_type": "code",
        "outputId": "867803ee-1882-4c68-c4b7-e969100e426c",
        "colab": {
          "base_uri": "https://localhost:8080/",
          "height": 34
        }
      },
      "source": [
        "li.count(200)   # count of list item repeated"
      ],
      "execution_count": 0,
      "outputs": [
        {
          "output_type": "execute_result",
          "data": {
            "text/plain": [
              "5"
            ]
          },
          "metadata": {
            "tags": []
          },
          "execution_count": 43
        }
      ]
    },
    {
      "cell_type": "code",
      "metadata": {
        "id": "verIpQ7lVrfU",
        "colab_type": "code",
        "outputId": "56a95f11-c03e-47a8-99c6-1bd51f3d1323",
        "colab": {
          "base_uri": "https://localhost:8080/",
          "height": 34
        }
      },
      "source": [
        "li.index(9)    # index() gives the index of specified value\n",
        "               # where 9 is called KEY NUMBER\n",
        "               # if list containing multiple same value like 200 it will give the index of its first occurence"
      ],
      "execution_count": 0,
      "outputs": [
        {
          "output_type": "execute_result",
          "data": {
            "text/plain": [
              "4"
            ]
          },
          "metadata": {
            "tags": []
          },
          "execution_count": 57
        }
      ]
    },
    {
      "cell_type": "code",
      "metadata": {
        "id": "UwThvcY_Wxk9",
        "colab_type": "code",
        "outputId": "9ba5d1b4-08d5-4232-e6ae-f638bd584c11",
        "colab": {
          "base_uri": "https://localhost:8080/",
          "height": 34
        }
      },
      "source": [
        "li.sort() # sorts the entire in a order\n",
        "li  "
      ],
      "execution_count": 0,
      "outputs": [
        {
          "output_type": "execute_result",
          "data": {
            "text/plain": [
              "[1, 2, 5, 9, 69, 69, 69, 200, 200, 200, 200, 200, 200]"
            ]
          },
          "metadata": {
            "tags": []
          },
          "execution_count": 58
        }
      ]
    },
    {
      "cell_type": "code",
      "metadata": {
        "id": "-mFVqdU3XYA7",
        "colab_type": "code",
        "outputId": "229ee7d7-4576-48b5-a2ff-1d7bf62b6b83",
        "colab": {
          "base_uri": "https://localhost:8080/",
          "height": 34
        }
      },
      "source": [
        "li.pop() # removes the last index item\n",
        "li  "
      ],
      "execution_count": 0,
      "outputs": [
        {
          "output_type": "execute_result",
          "data": {
            "text/plain": [
              "[1, 2, 5, 9, 69, 69, 69, 200, 200, 200, 200, 200]"
            ]
          },
          "metadata": {
            "tags": []
          },
          "execution_count": 59
        }
      ]
    },
    {
      "cell_type": "code",
      "metadata": {
        "id": "h5ve0BZyXk-S",
        "colab_type": "code",
        "outputId": "5d0b23d5-a463-457f-d45d-a4bed4e79d8b",
        "colab": {
          "base_uri": "https://localhost:8080/",
          "height": 34
        }
      },
      "source": [
        "li.pop(2) # removes the specified index item\n",
        "li  "
      ],
      "execution_count": 0,
      "outputs": [
        {
          "output_type": "execute_result",
          "data": {
            "text/plain": [
              "[1, 2, 5, 9, 69, 69, 200, 200, 200, 200, 200]"
            ]
          },
          "metadata": {
            "tags": []
          },
          "execution_count": 53
        }
      ]
    },
    {
      "cell_type": "code",
      "metadata": {
        "id": "Hjx_EeEMW9nM",
        "colab_type": "code",
        "outputId": "a1ca887b-64cd-40e0-a50b-a70163a529be",
        "colab": {
          "base_uri": "https://localhost:8080/",
          "height": 34
        }
      },
      "source": [
        "li"
      ],
      "execution_count": 0,
      "outputs": [
        {
          "output_type": "execute_result",
          "data": {
            "text/plain": [
              "[1, 2, 5, 9, 69, 69, 200, 200, 200, 200, 200]"
            ]
          },
          "metadata": {
            "tags": []
          },
          "execution_count": 54
        }
      ]
    },
    {
      "cell_type": "code",
      "metadata": {
        "id": "KySvAG7xYk1L",
        "colab_type": "code",
        "outputId": "f6225ff5-fb1c-49ca-9848-bcab98650936",
        "colab": {
          "base_uri": "https://localhost:8080/",
          "height": 34
        }
      },
      "source": [
        "# define a fun to find out second largest value of list\n",
        "# li= [1,9,16,25,2,3,65]\n",
        "# output=25\n",
        "def secondlargest(li):\n",
        "  li.sort()\n",
        "  return li[-2]\n",
        "li=[1,9,16,25,2,3,65]\n",
        "secondlargest(li)"
      ],
      "execution_count": 0,
      "outputs": [
        {
          "output_type": "execute_result",
          "data": {
            "text/plain": [
              "25"
            ]
          },
          "metadata": {
            "tags": []
          },
          "execution_count": 62
        }
      ]
    },
    {
      "cell_type": "code",
      "metadata": {
        "id": "MmW1iM9FZULD",
        "colab_type": "code",
        "outputId": "a0ea05a1-b935-4081-d496-90877a2a0e96",
        "colab": {
          "base_uri": "https://localhost:8080/",
          "height": 34
        }
      },
      "source": [
        "def genericlargest(li,n):\n",
        "  li.sort()\n",
        "  return li[-n]\n",
        "li=[1,9,16,25,2,3,65]\n",
        "genericlargest(li,3)\n"
      ],
      "execution_count": 0,
      "outputs": [
        {
          "output_type": "execute_result",
          "data": {
            "text/plain": [
              "16"
            ]
          },
          "metadata": {
            "tags": []
          },
          "execution_count": 65
        }
      ]
    },
    {
      "cell_type": "code",
      "metadata": {
        "id": "BYUsqmmQaeSf",
        "colab_type": "code",
        "outputId": "d62a2caf-2c65-420d-f448-97b4dd3eeea7",
        "colab": {
          "base_uri": "https://localhost:8080/",
          "height": 34
        }
      },
      "source": [
        "def genericleast(li,n):\n",
        "  li.sort()\n",
        "  return li[n]\n",
        "li=[1,9,16,25,2,3,65]\n",
        "genericleast(li,1)\n"
      ],
      "execution_count": 0,
      "outputs": [
        {
          "output_type": "execute_result",
          "data": {
            "text/plain": [
              "2"
            ]
          },
          "metadata": {
            "tags": []
          },
          "execution_count": 68
        }
      ]
    },
    {
      "cell_type": "markdown",
      "metadata": {
        "id": "3PmH8DCvbr85",
        "colab_type": "text"
      },
      "source": [
        "\n",
        "## NUMBER TO LIST CONVERSION"
      ]
    },
    {
      "cell_type": "code",
      "metadata": {
        "id": "jh9vYhO3dcB1",
        "colab_type": "code",
        "outputId": "79fd7643-7d7c-41c1-d5a2-d9ea137bb454",
        "colab": {
          "base_uri": "https://localhost:8080/",
          "height": 34
        }
      },
      "source": [
        "# NUMBER TO LIST CONVERSION\n",
        "def numbertolist(n):\n",
        "  li=[]   #  -----------   empty list\n",
        "  while n != 0:\n",
        "    r=n%10\n",
        "    li.append(r)\n",
        "    n=n//10\n",
        "  li.reverse()\n",
        "  return li\n",
        "numbertolist(19563212)"
      ],
      "execution_count": 0,
      "outputs": [
        {
          "output_type": "execute_result",
          "data": {
            "text/plain": [
              "[1, 9, 5, 6, 3, 2, 1, 2]"
            ]
          },
          "metadata": {
            "tags": []
          },
          "execution_count": 74
        }
      ]
    },
    {
      "cell_type": "markdown",
      "metadata": {
        "id": "msSNyG0mezNG",
        "colab_type": "text"
      },
      "source": [
        "# DATA STRUCTURES - TUPLES\n",
        "- IT IS SIMILAR TO LIST OBJECT\n",
        "- LIST WILL BE ENCLOSED IN SQUARE BRACKETS i.e [] \n",
        "- TUPLES WILL BE ENCLOSE WITH IN PARAENTHESIS()\n",
        "- LIST CAN BE INCREASED/DECREASED \n",
        "- TUPLES IS FIXED CANT BE INCREASED/ DECREASED \n",
        "- LIST IS MUTABLE i.e(FLEXIBLE) (USED FOR READING AND WRITING PURPOSES)\n",
        "- TUPLE IS IMMUTABLE (NOT FLEXIBLE) (USED FOR ONLY READING)\n",
        "- BASICALLY TUPLE IS ONLY USED FOR READING PURPOSES\n",
        "- LIST=changes WRITING CHANGES CAN BE DONE \n",
        "- TUPLE = NO WRITING CHANGES CAN BE DONE\n"
      ]
    },
    {
      "cell_type": "code",
      "metadata": {
        "id": "OMVQhk7OgAyz",
        "colab_type": "code",
        "outputId": "db4e4321-b2b9-4403-fb3e-b6e4c422fb4f",
        "colab": {
          "base_uri": "https://localhost:8080/",
          "height": 34
        }
      },
      "source": [
        "t = (1,2,3,6,8,5,0)\n",
        "t"
      ],
      "execution_count": 0,
      "outputs": [
        {
          "output_type": "execute_result",
          "data": {
            "text/plain": [
              "(1, 2, 3, 6, 8, 5, 0)"
            ]
          },
          "metadata": {
            "tags": []
          },
          "execution_count": 80
        }
      ]
    },
    {
      "cell_type": "code",
      "metadata": {
        "id": "g8kICNfngmPt",
        "colab_type": "code",
        "outputId": "206dae8e-6197-4904-9166-0b0dde78d943",
        "colab": {
          "base_uri": "https://localhost:8080/",
          "height": 34
        }
      },
      "source": [
        "t[0:3]"
      ],
      "execution_count": 0,
      "outputs": [
        {
          "output_type": "execute_result",
          "data": {
            "text/plain": [
              "(1, 2, 3)"
            ]
          },
          "metadata": {
            "tags": []
          },
          "execution_count": 81
        }
      ]
    },
    {
      "cell_type": "code",
      "metadata": {
        "id": "JNhRxqX8gqWJ",
        "colab_type": "code",
        "outputId": "46bfdd07-3051-4c13-dbf0-f924b0648878",
        "colab": {
          "base_uri": "https://localhost:8080/",
          "height": 163
        }
      },
      "source": [
        "t[2]=69  # this proves that tuple can only be used for reading purposes"
      ],
      "execution_count": 0,
      "outputs": [
        {
          "output_type": "error",
          "ename": "TypeError",
          "evalue": "ignored",
          "traceback": [
            "\u001b[0;31m---------------------------------------------------------------------------\u001b[0m",
            "\u001b[0;31mTypeError\u001b[0m                                 Traceback (most recent call last)",
            "\u001b[0;32m<ipython-input-82-a680f7ee8f10>\u001b[0m in \u001b[0;36m<module>\u001b[0;34m()\u001b[0m\n\u001b[0;32m----> 1\u001b[0;31m \u001b[0mt\u001b[0m\u001b[0;34m[\u001b[0m\u001b[0;36m2\u001b[0m\u001b[0;34m]\u001b[0m\u001b[0;34m=\u001b[0m\u001b[0;36m69\u001b[0m  \u001b[0;31m# this proves that tuple can only be used for reading purposes\u001b[0m\u001b[0;34m\u001b[0m\u001b[0;34m\u001b[0m\u001b[0m\n\u001b[0m",
            "\u001b[0;31mTypeError\u001b[0m: 'tuple' object does not support item assignment"
          ]
        }
      ]
    },
    {
      "cell_type": "code",
      "metadata": {
        "id": "0Rdda_r5g1Go",
        "colab_type": "code",
        "outputId": "3a51a282-d585-48d7-f4b7-112dce331511",
        "colab": {
          "base_uri": "https://localhost:8080/",
          "height": 163
        }
      },
      "source": [
        "del t[2]"
      ],
      "execution_count": 0,
      "outputs": [
        {
          "output_type": "error",
          "ename": "TypeError",
          "evalue": "ignored",
          "traceback": [
            "\u001b[0;31m---------------------------------------------------------------------------\u001b[0m",
            "\u001b[0;31mTypeError\u001b[0m                                 Traceback (most recent call last)",
            "\u001b[0;32m<ipython-input-83-2d0f41a77003>\u001b[0m in \u001b[0;36m<module>\u001b[0;34m()\u001b[0m\n\u001b[0;32m----> 1\u001b[0;31m \u001b[0;32mdel\u001b[0m \u001b[0mt\u001b[0m\u001b[0;34m[\u001b[0m\u001b[0;36m2\u001b[0m\u001b[0;34m]\u001b[0m\u001b[0;34m\u001b[0m\u001b[0;34m\u001b[0m\u001b[0m\n\u001b[0m",
            "\u001b[0;31mTypeError\u001b[0m: 'tuple' object doesn't support item deletion"
          ]
        }
      ]
    },
    {
      "cell_type": "markdown",
      "metadata": {
        "id": "zFBO3P5aiHS_",
        "colab_type": "text"
      },
      "source": [
        "## DATA STRUCTURE - DICTIONARIES\n",
        "- A DICTIONARY CAN BE DEFINED BY USING {   }\n",
        "- THIS DATA STRUCTURE OBJECT WORKS ON SET OF KEYS AND VALUES\n",
        "- THERE WILL BE UNIQUE KEY SET WILL BE DEFINED\n",
        "- EVERY KEY IS SEPERATED FROM ITS VALUE BY COLON(:) \n",
        "- EVERY KEY AND VALUE PAIR IS SEPERATED BY COMMA(,)"
      ]
    },
    {
      "cell_type": "code",
      "metadata": {
        "id": "QpEh-_pdi016",
        "colab_type": "code",
        "outputId": "3cc9ae4d-3e6f-4e28-c1cb-b73c50b99f23",
        "colab": {
          "base_uri": "https://localhost:8080/",
          "height": 34
        }
      },
      "source": [
        "# Define the dict d1 ={}\n",
        "d1={\"name\":\"venkat\",\"email\":\"hello@gmial.in\",\"phone\":9099090909}\n",
        "print (d1)"
      ],
      "execution_count": 0,
      "outputs": [
        {
          "output_type": "stream",
          "text": [
            "{'name': 'venkat', 'email': 'hello@gmial.in', 'phone': 9099090909}\n"
          ],
          "name": "stdout"
        }
      ]
    },
    {
      "cell_type": "code",
      "metadata": {
        "id": "aKVb4mUykVS9",
        "colab_type": "code",
        "outputId": "af098d7d-4045-4fb3-c5d7-02dca5353a48",
        "colab": {
          "base_uri": "https://localhost:8080/",
          "height": 34
        }
      },
      "source": [
        "print(d1[\"email\"])  # access to specific key value"
      ],
      "execution_count": 0,
      "outputs": [
        {
          "output_type": "stream",
          "text": [
            "hello@gmial.in\n"
          ],
          "name": "stdout"
        }
      ]
    },
    {
      "cell_type": "code",
      "metadata": {
        "id": "1uOni19skuqI",
        "colab_type": "code",
        "outputId": "451cd05c-e743-4881-fccd-eacf997b6658",
        "colab": {
          "base_uri": "https://localhost:8080/",
          "height": 34
        }
      },
      "source": [
        "d1[\"phone\"]=161616161 # update dict\n",
        "d1"
      ],
      "execution_count": 0,
      "outputs": [
        {
          "output_type": "execute_result",
          "data": {
            "text/plain": [
              "{'email': 'hello@gmial.in', 'name': 'venkat', 'phone': 161616161}"
            ]
          },
          "metadata": {
            "tags": []
          },
          "execution_count": 96
        }
      ]
    },
    {
      "cell_type": "code",
      "metadata": {
        "id": "Y_Gji7uNlCj0",
        "colab_type": "code",
        "colab": {}
      },
      "source": [
        "del d1[\"email\"]"
      ],
      "execution_count": 0,
      "outputs": []
    },
    {
      "cell_type": "code",
      "metadata": {
        "id": "pVjCsalQlOG0",
        "colab_type": "code",
        "outputId": "28b9c0f0-b0ec-486a-c93f-9675e8348878",
        "colab": {
          "base_uri": "https://localhost:8080/",
          "height": 34
        }
      },
      "source": [
        "d1"
      ],
      "execution_count": 0,
      "outputs": [
        {
          "output_type": "execute_result",
          "data": {
            "text/plain": [
              "{'name': 'venkat', 'phone': 161616161}"
            ]
          },
          "metadata": {
            "tags": []
          },
          "execution_count": 100
        }
      ]
    },
    {
      "cell_type": "markdown",
      "metadata": {
        "id": "09csKkV0my5o",
        "colab_type": "text"
      },
      "source": [
        "# CONTACT APPLICATION\n",
        "- USED CONCEPTS : DICT, LIST AND TUPLE\n",
        "## MODULES OF CONTACT APPLICATIONS\n",
        "- - ADD CONTACT\n",
        "- - SEARCH CONTACTS\n",
        "- - IMPORT NEW CONTACT\n",
        "- - UPDATE CONTACT\n",
        "- - DELETE CONTACT"
      ]
    },
    {
      "cell_type": "code",
      "metadata": {
        "id": "opcFxFTcnJPb",
        "colab_type": "code",
        "outputId": "273262ff-b823-4a30-b0cc-7e071c987415",
        "colab": {
          "base_uri": "https://localhost:8080/",
          "height": 68
        }
      },
      "source": [
        "# ADD CONTACTS\n",
        "contacts={} # empty dict\n",
        "#define func for add contacts\n",
        "def addcontact(name,number):\n",
        "  if name not in contacts:\n",
        "    contacts[name]=number\n",
        "    print (\"contact added\")\n",
        "  else :\n",
        "    print (\"contact not added\")  \n",
        "  return\n",
        "addcontact('ajay',134151613)  # contact added\n",
        "addcontact('abhay',867956872)  # contact added\n",
        "addcontact('ajay',134151613)  # contact not added"
      ],
      "execution_count": 0,
      "outputs": [
        {
          "output_type": "stream",
          "text": [
            "contact added\n",
            "contact added\n",
            "contact not added\n"
          ],
          "name": "stdout"
        }
      ]
    },
    {
      "cell_type": "code",
      "metadata": {
        "id": "tBsjZGboo_NK",
        "colab_type": "code",
        "outputId": "d191f8d3-2317-464b-f942-e62fbc41fde1",
        "colab": {
          "base_uri": "https://localhost:8080/",
          "height": 34
        }
      },
      "source": [
        "contacts"
      ],
      "execution_count": 0,
      "outputs": [
        {
          "output_type": "execute_result",
          "data": {
            "text/plain": [
              "{'abhay': 867956872, 'ajay': 134151613}"
            ]
          },
          "metadata": {
            "tags": []
          },
          "execution_count": 114
        }
      ]
    },
    {
      "cell_type": "code",
      "metadata": {
        "id": "uMlOzm2WpD7d",
        "colab_type": "code",
        "outputId": "79eab5bb-0c81-4428-f9f0-bb300e3e5972",
        "colab": {
          "base_uri": "https://localhost:8080/",
          "height": 68
        }
      },
      "source": [
        "# SEARCH CONTACTS\n",
        "# DEFINE FUNCTION FOR SEARCH CONTACTS\n",
        "def searchcontact(name):\n",
        "  if name in contacts:\n",
        "    print(name,\":\",contacts[name])\n",
        "  else:\n",
        "    print('contact is not present')  \n",
        "  return\n",
        "searchcontact('ajay') \n",
        "searchcontact('abhay')  \n",
        "searchcontact('naveen')"
      ],
      "execution_count": 0,
      "outputs": [
        {
          "output_type": "stream",
          "text": [
            "ajay : 134151613\n",
            "abhay : 867956872\n",
            "contact is not present\n"
          ],
          "name": "stdout"
        }
      ]
    },
    {
      "cell_type": "code",
      "metadata": {
        "id": "_7IQ_1cVr241",
        "colab_type": "code",
        "outputId": "afd5e9d5-e091-4e16-a627-d211554f453e",
        "colab": {
          "base_uri": "https://localhost:8080/",
          "height": 34
        }
      },
      "source": [
        "# IMPORT CONTACTS\n",
        "# define the function for importing new contacts\n",
        "def importcontacts(newcontacts):\n",
        "  contacts.update(newcontacts)\n",
        "  print('new contacts are added')\n",
        "  return\n",
        "newcontacts={\"manideep\":696969696,\"satish\":909090909}  \n",
        "importcontacts(newcontacts)"
      ],
      "execution_count": 0,
      "outputs": [
        {
          "output_type": "stream",
          "text": [
            "new contacts are added\n"
          ],
          "name": "stdout"
        }
      ]
    },
    {
      "cell_type": "code",
      "metadata": {
        "id": "cAM5mwF6tTL1",
        "colab_type": "code",
        "outputId": "131e6d76-1944-49b0-89d6-e30b34f39407",
        "colab": {
          "base_uri": "https://localhost:8080/",
          "height": 85
        }
      },
      "source": [
        "contacts"
      ],
      "execution_count": 0,
      "outputs": [
        {
          "output_type": "execute_result",
          "data": {
            "text/plain": [
              "{'abhay': 867956872,\n",
              " 'ajay': 134151613,\n",
              " 'manideep': 696969696,\n",
              " 'satish': 909090909}"
            ]
          },
          "metadata": {
            "tags": []
          },
          "execution_count": 118
        }
      ]
    },
    {
      "cell_type": "code",
      "metadata": {
        "id": "o-T0scwKuQfR",
        "colab_type": "code",
        "outputId": "21d01a0c-9a5f-4cc2-8f43-e14cae689c04",
        "colab": {
          "base_uri": "https://localhost:8080/",
          "height": 51
        }
      },
      "source": [
        "#UPDATE CONTACT\n",
        "# DEFINE A FUNCTION FOR UPDATE DETAILS\n",
        "def updatedetails(name,number):\n",
        "  if name in contacts:\n",
        "    contacts[name]=number\n",
        "    print('contact update is successsfull')\n",
        "  else:\n",
        "    print('add new contact details ')\n",
        "  return\n",
        "updatedetails('abhay',86795600000)  #update successfull\n",
        "updatedetails('venkat',86795600000) # please update contact"
      ],
      "execution_count": 0,
      "outputs": [
        {
          "output_type": "stream",
          "text": [
            "contact update is successsfull\n",
            "add new contact details \n"
          ],
          "name": "stdout"
        }
      ]
    },
    {
      "cell_type": "code",
      "metadata": {
        "id": "mB4wNkzPv-oe",
        "colab_type": "code",
        "outputId": "0c10d5c7-558a-4932-b008-df98e1d281d2",
        "colab": {
          "base_uri": "https://localhost:8080/",
          "height": 85
        }
      },
      "source": [
        "contacts"
      ],
      "execution_count": 0,
      "outputs": [
        {
          "output_type": "execute_result",
          "data": {
            "text/plain": [
              "{'abhay': 86795600000,\n",
              " 'ajay': 134151613,\n",
              " 'manideep': 696969696,\n",
              " 'satish': 909090909}"
            ]
          },
          "metadata": {
            "tags": []
          },
          "execution_count": 123
        }
      ]
    },
    {
      "cell_type": "code",
      "metadata": {
        "id": "ghXI5md2wtB2",
        "colab_type": "code",
        "outputId": "d3a6a322-399c-4ff3-b459-df676f40f3ed",
        "colab": {
          "base_uri": "https://localhost:8080/",
          "height": 51
        }
      },
      "source": [
        "#define function to delete the contact delete\n",
        "def deletecontact(name):\n",
        "  if name in contacts:\n",
        "    del contacts[name]\n",
        "    print('contact deleted')\n",
        "  else :\n",
        "    print('contact is not present')  \n",
        "  return\n",
        "deletecontact('satish')     # contact is present so deleted\n",
        "deletecontact('shakeer')  # contact does not exist "
      ],
      "execution_count": 0,
      "outputs": [
        {
          "output_type": "stream",
          "text": [
            "contact deleted\n",
            "contact is not present\n"
          ],
          "name": "stdout"
        }
      ]
    },
    {
      "cell_type": "code",
      "metadata": {
        "id": "MiWVNlO9yLWK",
        "colab_type": "code",
        "outputId": "e9a174e5-bc7d-4f04-ce34-b3c548985c29",
        "colab": {
          "base_uri": "https://localhost:8080/",
          "height": 68
        }
      },
      "source": [
        "# STRING TO LIST CONVERSION\n",
        "# \"1 2 3 4 5 6\"-[1,2,3,4,5,6]\n",
        "\n",
        "\n",
        "a = input('enter a numbers')\n",
        "print (type(a))\n",
        "print(a.split())"
      ],
      "execution_count": 0,
      "outputs": [
        {
          "output_type": "stream",
          "text": [
            "enter a numbers1 2 3 4 5 6 6\n",
            "<class 'str'>\n",
            "['1', '2', '3', '4', '5', '6', '6']\n"
          ],
          "name": "stdout"
        }
      ]
    },
    {
      "cell_type": "code",
      "metadata": {
        "id": "anqDGno-1SGv",
        "colab_type": "code",
        "outputId": "3ef56b8e-6db4-4d05-f643-752b8fde713f",
        "colab": {
          "base_uri": "https://localhost:8080/",
          "height": 34
        }
      },
      "source": [
        "s=\"gitam hyd python programming\"\n",
        "a=s.split()                     # splits using space between words in string\n",
        "print(a)"
      ],
      "execution_count": 0,
      "outputs": [
        {
          "output_type": "stream",
          "text": [
            "['gitam', 'hyd', 'python', 'programming']\n"
          ],
          "name": "stdout"
        }
      ]
    },
    {
      "cell_type": "code",
      "metadata": {
        "id": "xUcgGyWY2BD9",
        "colab_type": "code",
        "outputId": "8b8346af-e783-4981-8f40-6d754e576015",
        "colab": {
          "base_uri": "https://localhost:8080/",
          "height": 34
        }
      },
      "source": [
        "s=\"gitam hyd python programming\"\n",
        "a=s.split('a') # splits using specified term\n",
        "print(a)"
      ],
      "execution_count": 0,
      "outputs": [
        {
          "output_type": "stream",
          "text": [
            "['git', 'm hyd python progr', 'mming']\n"
          ],
          "name": "stdout"
        }
      ]
    },
    {
      "cell_type": "code",
      "metadata": {
        "id": "LPCUjQfa2OeP",
        "colab_type": "code",
        "outputId": "68eb861f-1f6c-4db8-b33d-3cb877122bed",
        "colab": {
          "base_uri": "https://localhost:8080/",
          "height": 34
        }
      },
      "source": [
        "#DEFINE A FUNCTION TO CONVERT THE STRING TO LIST\n",
        "def stringtolist(s):\n",
        "  li=s.split()                  # divide the string by white space\n",
        "                                # ['1','2','3',...'6']\n",
        "  numberlist =[]\n",
        "  for i in li:\n",
        "    numberlist.append(int(i))                                 \n",
        "  return numberlist\n",
        "stringtolist('1 2 3 4 5 6')"
      ],
      "execution_count": 0,
      "outputs": [
        {
          "output_type": "execute_result",
          "data": {
            "text/plain": [
              "[1, 2, 3, 4, 5, 6]"
            ]
          },
          "metadata": {
            "tags": []
          },
          "execution_count": 138
        }
      ]
    },
    {
      "cell_type": "code",
      "metadata": {
        "id": "IQx8b9hg6xNK",
        "colab_type": "code",
        "colab": {}
      },
      "source": [
        ""
      ],
      "execution_count": 0,
      "outputs": []
    }
  ]
}