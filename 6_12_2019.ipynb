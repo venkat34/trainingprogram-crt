{
  "nbformat": 4,
  "nbformat_minor": 0,
  "metadata": {
    "colab": {
      "name": "6-12-2019",
      "provenance": [],
      "collapsed_sections": [],
      "include_colab_link": true
    },
    "kernelspec": {
      "name": "python3",
      "display_name": "Python 3"
    }
  },
  "cells": [
    {
      "cell_type": "markdown",
      "metadata": {
        "id": "view-in-github",
        "colab_type": "text"
      },
      "source": [
        "<a href=\"https://colab.research.google.com/github/venkat34/trainingprogram-crt/blob/master/6_12_2019.ipynb\" target=\"_parent\"><img src=\"https://colab.research.google.com/assets/colab-badge.svg\" alt=\"Open In Colab\"/></a>"
      ]
    },
    {
      "cell_type": "markdown",
      "metadata": {
        "id": "rTuRRiDWoXfE",
        "colab_type": "text"
      },
      "source": [
        " # declare two inputs a and b if 1st inputis greater than 2nd\n",
        "  # print b*b\n",
        "  "
      ]
    },
    {
      "cell_type": "code",
      "metadata": {
        "id": "cgqiFc2Xoa9M",
        "colab_type": "code",
        "colab": {}
      },
      "source": [
        "#include<stdio.h>\n",
        "int main()\n",
        "{\n",
        "\tint x1,x2;\n",
        "\tscanf(\"%d%d\",&x1,&x2);\n",
        "\tif (x1>x2){\n",
        "\t\tprintf(\"%d\",x2*x2);\n",
        "\t}\n",
        "\telse{\n",
        "\t\tprintf(\"%d\",x1*x1);\n",
        "\t}\n",
        "\treturn 0;\n",
        "\t}\n"
      ],
      "execution_count": 0,
      "outputs": []
    },
    {
      "cell_type": "markdown",
      "metadata": {
        "id": "NsJit3SDrALn",
        "colab_type": "text"
      },
      "source": [
        "between 18 to 85 eligible for voting or not eligible"
      ]
    },
    {
      "cell_type": "code",
      "metadata": {
        "id": "z65ZQAQRrAXM",
        "colab_type": "code",
        "colab": {}
      },
      "source": [
        "#include<stdio.h>\n",
        "int main()\n",
        "{\n",
        "\tint x;\n",
        "    scanf(\"%d\",&x);\n",
        "    if (x>=18&&x<=85) {\n",
        "    \tprintf(\"eligible for voting\");\n",
        "    }\n",
        "    else{\n",
        "    \tprintf(\"not eligible\");\n",
        "    }\n",
        "    return 0;\n",
        "}\n",
        "\t\n",
        "\n"
      ],
      "execution_count": 0,
      "outputs": []
    },
    {
      "cell_type": "markdown",
      "metadata": {
        "id": "pfFhXWcIu3rd",
        "colab_type": "text"
      },
      "source": [
        "# read the char as input and check wether it is upper, lower case or a digit"
      ]
    },
    {
      "cell_type": "code",
      "metadata": {
        "id": "Pb0VKbnru4gI",
        "colab_type": "code",
        "colab": {}
      },
      "source": [
        "#include<stdio.h>\n",
        "int main()\n",
        "{\n",
        "\tchar a;\n",
        "\tscanf(\"%s\",&a);\n",
        "\tif (a>=65&&a<=90){\n",
        "\t\tprintf(\"upper case\");\n",
        "\t}\n",
        "\telse if (a>=97&&a<=122){\n",
        "\t\tprintf(\"lower case\");\n",
        "\t}\n",
        "\telse if (a>=48&&a<=57){\n",
        "\t\tprintf(\"it is a digit\");\n",
        "\t}\n",
        "\treturn 0;\n",
        "}"
      ],
      "execution_count": 0,
      "outputs": []
    },
    {
      "cell_type": "markdown",
      "metadata": {
        "id": "HSMXeFyywL2L",
        "colab_type": "text"
      },
      "source": [
        "read the input as char and print the output as wether it is a vowel or consonants"
      ]
    },
    {
      "cell_type": "code",
      "metadata": {
        "id": "RwSIbJdgwL6p",
        "colab_type": "code",
        "colab": {}
      },
      "source": [
        "#include<stdio.h>\n",
        "int main()\n",
        "{\n",
        "\tchar a;\n",
        "\tscanf(\"%s\",&a);\n",
        "\tif (a =='a'||a =='e'||a =='i'||a =='o'||a =='u'){\n",
        "\t\tprintf(\"vowel\");\n",
        "\t}\n",
        "\telse{\n",
        "\t\tprintf(\"consonants\");\n",
        "\t}\n",
        "\treturn 0;\n",
        "\t\n",
        "}"
      ],
      "execution_count": 0,
      "outputs": []
    },
    {
      "cell_type": "markdown",
      "metadata": {
        "id": "YYO3lUdL3uWn",
        "colab_type": "text"
      },
      "source": [
        "# READ THE NUMBER AND DETERMINE THE DAY OF WEEK"
      ]
    },
    {
      "cell_type": "code",
      "metadata": {
        "id": "FlZAXxr13ucx",
        "colab_type": "code",
        "colab": {}
      },
      "source": [
        "#include<stdio.h>\n",
        "int main()\n",
        "{\n",
        "\tint x;\n",
        "\tscanf(\"%d\",&x);\n",
        "\tif (x==1){\n",
        "\t\tprintf(\"sunday\");\n",
        "\t}\n",
        "\telse if (x==2){\n",
        "\t\tprintf(\"monday\");\n",
        "\t}\n",
        "\telse if (x==3){\n",
        "\t\tprintf(\"tuesday\");\n",
        "\t}\n",
        "\telse if (x==4){\n",
        "\t\tprintf(\"wednesday\");\n",
        "\t}\n",
        "\telse if (x==5){\n",
        "\t\tprintf(\"thursday\");\n",
        "\t}\n",
        "\telse if (x==6){\n",
        "\t\tprintf(\"friday\");\n",
        "\t}\n",
        "\telse if (x==7){\n",
        "\t\tprintf(\"saturday\");\n",
        "\t}\n",
        "\treturn 0;\n",
        "}"
      ],
      "execution_count": 0,
      "outputs": []
    },
    {
      "cell_type": "markdown",
      "metadata": {
        "id": "c1yIoRA_5DlA",
        "colab_type": "text"
      },
      "source": [
        "#DIVISIBLE BY 3 AND 5"
      ]
    },
    {
      "cell_type": "code",
      "metadata": {
        "id": "BgBaMofw5DsM",
        "colab_type": "code",
        "colab": {}
      },
      "source": [
        "#include<stdio.h>\n",
        "int main()\n",
        "{\n",
        "\tint x;\n",
        "\tscanf(\"%d\",&x);\n",
        "\tif(x%3==0&&x%5==0){\n",
        "\t\tprintf(\"divisible\");\n",
        "\t}\n",
        "\telse{\n",
        "\t\tprintf(\"not divisible\");\n",
        "\t}\n",
        "\treturn 0;\n",
        "}"
      ],
      "execution_count": 0,
      "outputs": []
    },
    {
      "cell_type": "markdown",
      "metadata": {
        "id": "Pve4zPAZ8p8C",
        "colab_type": "text"
      },
      "source": [
        "# READ THE THREE ANGLES AS INPUT AND CHECK WITH THIS ANGLES CAN BE ABLE TO CONSTRUCT A TRIANGLE OR NOT\n",
        "# 90 45 45 =YES\n",
        "# 0 0 180 =NO\n",
        "# 60 90 30 =YES "
      ]
    },
    {
      "cell_type": "code",
      "metadata": {
        "id": "BKeC5YyT8qBF",
        "colab_type": "code",
        "colab": {}
      },
      "source": [
        "#include<stdio.h>\n",
        "int main()\n",
        "{\n",
        "\tint x,y,z;\n",
        "\tscanf(\"%d%d%d\",&x,&y,&z);\n",
        "\tif (x!=0&&y!=0&&z!=0&&x+y+z==180){\n",
        "\t\tprintf(\"yes\");\n",
        "\t}\n",
        "\telse {\n",
        "\t\tprintf(\"no\");\n",
        "\t}\n",
        "\treturn 0;\n",
        "}"
      ],
      "execution_count": 0,
      "outputs": []
    },
    {
      "cell_type": "markdown",
      "metadata": {
        "id": "SZEubXNhaNPD",
        "colab_type": "text"
      },
      "source": [
        ""
      ]
    },
    {
      "cell_type": "code",
      "metadata": {
        "id": "ssk6fn3AaNTy",
        "colab_type": "code",
        "colab": {}
      },
      "source": [
        "#include<stdio.h>\n",
        "int main()\n",
        "{\n",
        "\tint x,y;\n",
        "\tscanf(\"%d%d\",&x,&y);\n",
        "\twhile(x<=y){\n",
        "\t\t\tif (x%3==0&&x%5==0){\n",
        "\t\tprintf(\"%d \",x);\n",
        "\t}\n",
        "\tx++;\n",
        "}\n",
        "\t}\n"
      ],
      "execution_count": 0,
      "outputs": []
    },
    {
      "cell_type": "markdown",
      "metadata": {
        "id": "NmM0a6pOaQZU",
        "colab_type": "text"
      },
      "source": [
        ""
      ]
    },
    {
      "cell_type": "code",
      "metadata": {
        "id": "fKlEluU8aQfd",
        "colab_type": "code",
        "colab": {}
      },
      "source": [
        "#include<stdio.h>\n",
        "int main()\n",
        "{\n",
        "\tint n,r;\n",
        "\tscanf(\"%d\",&n);\n",
        "\twhile(n!=0){\n",
        "\t\tr=n%10;\n",
        "\t\tprintf(\"%d\",r);\n",
        "\t\tn=n/10;\n",
        "\t}\n",
        "\treturn 0;\n",
        "}"
      ],
      "execution_count": 0,
      "outputs": []
    },
    {
      "cell_type": "markdown",
      "metadata": {
        "id": "C8HvfUhGf-0K",
        "colab_type": "text"
      },
      "source": [
        ""
      ]
    },
    {
      "cell_type": "code",
      "metadata": {
        "id": "cRYu9XDlf-8l",
        "colab_type": "code",
        "colab": {}
      },
      "source": [
        "#include<stdio.h>\n",
        "int main()\n",
        "{\n",
        "\tint n,r,s=0;\n",
        "\tscanf(\"%d\",&n);\n",
        "\twhile(n!=0){\n",
        "\t\tr=n%10;\t\n",
        "\t\tswitch(r)\n",
        "\t{\n",
        "\t\n",
        "\tcase 1 :printf(\" one \");\n",
        "\tbreak;\n",
        "\tcase 2 :printf(\" two \");\n",
        "\tbreak;\n",
        "\tcase 3 :printf(\" three \");\n",
        "\tbreak;\n",
        "\tcase 4 :printf(\" four \");\n",
        "\tbreak;\n",
        "\tcase 5 :printf(\" five \");\n",
        "\tbreak;\n",
        "\tcase 6 :printf(\" six \");\n",
        "\tbreak;\n",
        "\tcase 7 :printf(\" seven \");\n",
        "\tbreak;\n",
        "\tcase 8 :printf(\" eight \");\n",
        "\tbreak;\n",
        "\tcase 9 :printf(\" nine \");\n",
        "\tbreak;\n",
        "\tcase 0 :printf(\" zero \");\n",
        "\tbreak;\n",
        "}\n",
        "\t\t\n",
        "\t\t\n",
        "\t\t\tn=n/10;\n",
        "\t\t\n",
        "\t}\n",
        "}\n"
      ],
      "execution_count": 0,
      "outputs": []
    },
    {
      "cell_type": "markdown",
      "metadata": {
        "id": "FfbtTmcZgnuG",
        "colab_type": "text"
      },
      "source": [
        "#INPUT 1889\n",
        "8+8=16"
      ]
    },
    {
      "cell_type": "code",
      "metadata": {
        "id": "mq3bnuPUgn2G",
        "colab_type": "code",
        "colab": {}
      },
      "source": [
        "#include<stdio.h>\n",
        "int main()\n",
        "{\n",
        "\tint n,r,s=0;\n",
        "\tscanf(\"%d\",&n);\n",
        "\twhile(n!=0){\n",
        "\t\tr=n%10;\n",
        "\t\tif(r%2==0){\n",
        "\t\ts=s+r;\n",
        "\t\tprintf(\"%d\",s);\t\n",
        "\t\t}\n",
        "\t\telse{\n",
        "\t\t\tn=n/10;\n",
        "\t\t}\n",
        "\t\t\n",
        "\t}\n",
        "\treturn 0;\n",
        "\t\n",
        "}"
      ],
      "execution_count": 0,
      "outputs": []
    },
    {
      "cell_type": "markdown",
      "metadata": {
        "id": "5N4gHxeals8e",
        "colab_type": "text"
      },
      "source": [
        "#large and least\n",
        "# 98521 input"
      ]
    },
    {
      "cell_type": "code",
      "metadata": {
        "id": "Zq1UKKWOltEb",
        "colab_type": "code",
        "colab": {}
      },
      "source": [
        "#include<stdio.h>\n",
        "int main()\n",
        "{\n",
        "\tint large=0,n,r,least=9;\n",
        "\tscanf(\"%d\",&n);\n",
        "\twhile (n!=0)\n",
        "\t{\n",
        "\t\tr=n%10;\n",
        "\t\tif(large<r){\n",
        "\t\t\tlarge=r;\n",
        "\t\t   \n",
        "\t\t}\n",
        "\t\tif (least>r){\n",
        "\t\t\tleast=r;\n",
        "\t\t\n",
        "\t\t} \n",
        "\t\tn=n/10;\n",
        "\t}\n",
        "\tprintf(\"<%d,%d>\",large,least);\n",
        "\treturn 0;\n",
        "\t\n",
        "}\n",
        "\n"
      ],
      "execution_count": 0,
      "outputs": []
    },
    {
      "cell_type": "markdown",
      "metadata": {
        "id": "rutVcycirb4y",
        "colab_type": "text"
      },
      "source": [
        ""
      ]
    },
    {
      "cell_type": "code",
      "metadata": {
        "id": "RAWAkt8Frb_U",
        "colab_type": "code",
        "colab": {}
      },
      "source": [
        "#include<stdio.h>\n",
        "int main()\n",
        "{\n",
        "\tint x,r,s=0;\n",
        "\tscanf(\"%d\",&x);\n",
        "\twhile(x!=0)\n",
        "\t{\n",
        "\t\tr=x%10;\n",
        "\t\tif(r==8){\n",
        "\t\t\ts=+2;\n",
        "\t\t}\n",
        "\t\telse if(r==0||r==6||r==9){\n",
        "\t\t\ts+=1;\n",
        "\t\t}\n",
        "\t\telse if(r==4){\n",
        "\t\t\ts+=2;\n",
        "\t\t}\n",
        "\t\tx/=10;\n",
        "\t}\n",
        "\tprintf(\"%d\",s);\n",
        "\treturn 0;\n",
        "}\n"
      ],
      "execution_count": 0,
      "outputs": []
    },
    {
      "cell_type": "markdown",
      "metadata": {
        "id": "Klr6c4ILvJXe",
        "colab_type": "text"
      },
      "source": [
        ""
      ]
    },
    {
      "cell_type": "code",
      "metadata": {
        "id": "EbtjvOsTvJee",
        "colab_type": "code",
        "colab": {}
      },
      "source": [
        "#include<stdio.h>\n",
        "int main()\n",
        "{\n",
        "\tint n,r,M,rever=0;\n",
        "\tscanf(\"%d\",&n);\n",
        "\tM=n;\n",
        "\twhile (n!=0)\n",
        "\t{\n",
        "\t\tr=n%10;\n",
        "\t\trever=rever*10+r;\n",
        "\t\tn=n/10;\n",
        "\t}\n",
        "\tprintf(\"%d\",rever);\n",
        "\tif (rever==M){\n",
        "\t\tprintf(\"palindrome\");\n",
        "\t}\n",
        "\telse{\n",
        "\t\tprintf(\"not a palindrome\");\n",
        "\t}\n",
        "\treturn 0;\n",
        "}"
      ],
      "execution_count": 0,
      "outputs": []
    },
    {
      "cell_type": "markdown",
      "metadata": {
        "id": "CEDn0VitrkkX",
        "colab_type": "text"
      },
      "source": [
        "### READ THE NUMBER AS INPUT AND PRINT WHETHER THE NUMBER IS PALINDROME OR NOT"
      ]
    }
  ]
}