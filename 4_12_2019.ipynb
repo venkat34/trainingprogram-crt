{
  "nbformat": 4,
  "nbformat_minor": 0,
  "metadata": {
    "kernelspec": {
      "display_name": "Python 3",
      "language": "python",
      "name": "python3"
    },
    "colab": {
      "name": "4-12-2019.ipynb",
      "provenance": [],
      "include_colab_link": true
    }
  },
  "cells": [
    {
      "cell_type": "markdown",
      "metadata": {
        "id": "view-in-github",
        "colab_type": "text"
      },
      "source": [
        "<a href=\"https://colab.research.google.com/github/venkat34/trainingprogram-crt/blob/master/4_12_2019.ipynb\" target=\"_parent\"><img src=\"https://colab.research.google.com/assets/colab-badge.svg\" alt=\"Open In Colab\"/></a>"
      ]
    },
    {
      "cell_type": "markdown",
      "metadata": {
        "id": "h073V1Oo_luk",
        "colab_type": "text"
      },
      "source": [
        "DAY OBJECTIVES\n",
        "- LOOP EXAMPLES\n",
        "- FUNCTIONS(USER DEFINED FUNCTIONS)\n",
        "- LIST ,TUPLES, STRING"
      ]
    },
    {
      "cell_type": "code",
      "metadata": {
        "id": "sdJCsNca_luv",
        "colab_type": "code",
        "colab": {}
      },
      "source": [
        "# READ NUMBER AS INPUT\n",
        "# PRINT OUTPUT AS DIGITS OF NUMBER\n",
        "# TEST CASES :-\n",
        "# 145 = 5 4 1\n",
        "# 123 = 3 2 1"
      ],
      "execution_count": 0,
      "outputs": []
    },
    {
      "cell_type": "code",
      "metadata": {
        "id": "EIOuaTGT_lu9",
        "colab_type": "code",
        "colab": {},
        "outputId": "b14698a2-dcc5-404a-f4ce-0d4bff0b7b07"
      },
      "source": [
        "n= int(input(''))\n",
        "i=1\n",
        "while i<=n:\n",
        "    s=n%10\n",
        "    print(s)\n",
        "    \n",
        "    n=n//10\n",
        "\n",
        "   "
      ],
      "execution_count": 0,
      "outputs": [
        {
          "output_type": "stream",
          "text": [
            "123\n",
            "3\n",
            "2\n",
            "1\n"
          ],
          "name": "stdout"
        }
      ]
    },
    {
      "cell_type": "markdown",
      "metadata": {
        "id": "IBh_Qep3_lvE",
        "colab_type": "text"
      },
      "source": [
        "## FUNCTIONS in programming\n",
        "- program will be divided into subparts\n",
        "- it reuses the same code \n",
        "- functions make the programming much easier\n",
        "- def is a keyword used to define the function\n",
        "- function name follows the camel case always\n",
        "  - fun() isPalindrome() isPalindromeCheck()\n",
        "- defination of the function can be anything for the given requirement\n",
        "- def FunctionName():          \n",
        "  - statements\n",
        "  - return"
      ]
    },
    {
      "cell_type": "code",
      "metadata": {
        "id": "LYQAWPFp_lvG",
        "colab_type": "code",
        "colab": {}
      },
      "source": [
        "# read the input as number \n",
        "# print output as largest digit number\n",
        "# 58952 --9\n",
        "# 753214 --7\n",
        "def largeDigit(n):\n",
        "    return\n",
        "largeDigit(58952)#9"
      ],
      "execution_count": 0,
      "outputs": []
    },
    {
      "cell_type": "code",
      "metadata": {
        "id": "4cBBOVtG_lvK",
        "colab_type": "code",
        "colab": {},
        "outputId": "1bb65be9-613c-46d0-d225-0409573d621b"
      },
      "source": [
        "def largeDigit(n):\n",
        "    large =0\n",
        "    while n!=0:\n",
        "        r=n%10\n",
        "        if large<r:\n",
        "            large = r\n",
        "        n = n//10\n",
        "    return large\n",
        "n= int(input(''))\n",
        "largeDigit(n)\n",
        "\n"
      ],
      "execution_count": 0,
      "outputs": [
        {
          "output_type": "stream",
          "text": [
            "34675\n"
          ],
          "name": "stdout"
        },
        {
          "output_type": "execute_result",
          "data": {
            "text/plain": [
              "7"
            ]
          },
          "metadata": {
            "tags": []
          },
          "execution_count": 18
        }
      ]
    },
    {
      "cell_type": "code",
      "metadata": {
        "id": "2DH01ujl_lvO",
        "colab_type": "code",
        "colab": {},
        "outputId": "6fdc2052-fcce-4698-901a-46d75e19a756"
      },
      "source": [
        "# SUM OF DIGITS\n",
        "def sumofdigits(n):\n",
        "    s=0\n",
        "    while n!=0:\n",
        "        r=n%10\n",
        "        s=s+r\n",
        "        n=n//10\n",
        "    return s\n",
        "n=int(input(''))\n",
        "sumofdigits(n)"
      ],
      "execution_count": 0,
      "outputs": [
        {
          "output_type": "stream",
          "text": [
            "345\n"
          ],
          "name": "stdout"
        },
        {
          "output_type": "execute_result",
          "data": {
            "text/plain": [
              "12"
            ]
          },
          "metadata": {
            "tags": []
          },
          "execution_count": 5
        }
      ]
    },
    {
      "cell_type": "code",
      "metadata": {
        "id": "wxJEeotE_lvS",
        "colab_type": "code",
        "colab": {},
        "outputId": "90ec8c00-8c14-4efb-e79d-e104e5a9267a"
      },
      "source": [
        "# READ INPUT AS A NUMBER\n",
        "# PRINT THE OUTPUT AS PALINDROME OR NOT PALINDROME\n",
        "# A REVERSED ITSELF IS SAME AS ORIGINAL NUMBER CALLED AS PALONDROME\n",
        "# 121 - PALINDROME\n",
        "# 1889 -NOT A PALINDROME\n",
        "\n",
        "\n",
        "def problem(n):\n",
        "    a=0\n",
        "    buffer = n\n",
        "    while n!=0:\n",
        "        r=n%10\n",
        "        a=a*10+r\n",
        "        n=n//10\n",
        "    if a==buffer:\n",
        "        return \"palindrome\"\n",
        "    else :\n",
        "        return \"not palindrome\"\n",
        "    return \n",
        "n=int(input(''))\n",
        "problem(n)"
      ],
      "execution_count": 0,
      "outputs": [
        {
          "output_type": "stream",
          "text": [
            "343\n"
          ],
          "name": "stdout"
        },
        {
          "output_type": "execute_result",
          "data": {
            "text/plain": [
              "'palindrome'"
            ]
          },
          "metadata": {
            "tags": []
          },
          "execution_count": 30
        }
      ]
    },
    {
      "cell_type": "code",
      "metadata": {
        "id": "PMmlXSs0_lvW",
        "colab_type": "code",
        "colab": {},
        "outputId": "587e0bb8-d9b1-476b-ae6b-dc49f7f07654"
      },
      "source": [
        "# large digit from last three digits of number\n",
        "def largeDigit(n):\n",
        "    large =0\n",
        "    i=0\n",
        "    while i!=3:\n",
        "        r=n%10\n",
        "        if large<r:\n",
        "            large = r\n",
        "        n = n//10\n",
        "        i=i+1\n",
        "    return large\n",
        "n= int(input(''))\n",
        "largeDigit(n)\n"
      ],
      "execution_count": 0,
      "outputs": [
        {
          "output_type": "stream",
          "text": [
            "7657869\n"
          ],
          "name": "stdout"
        },
        {
          "output_type": "execute_result",
          "data": {
            "text/plain": [
              "9"
            ]
          },
          "metadata": {
            "tags": []
          },
          "execution_count": 33
        }
      ]
    },
    {
      "cell_type": "markdown",
      "metadata": {
        "id": "xVO7vv7r_lvY",
        "colab_type": "text"
      },
      "source": [
        "# DATA STRUCTURES OF PYTHON PROGRAMMING\n",
        " - LIST\n",
        " - TUPLES\n",
        " - DICTIONARIES\n",
        " - SETS"
      ]
    },
    {
      "cell_type": "code",
      "metadata": {
        "id": "GfBATjkD_lvZ",
        "colab_type": "code",
        "colab": {},
        "outputId": "0d92460c-4e6e-4bd5-ffa6-71c9ca2c681c"
      },
      "source": [
        "li = [1,2,3,4,5]\n",
        "print(li)"
      ],
      "execution_count": 0,
      "outputs": [
        {
          "output_type": "stream",
          "text": [
            "[1, 2, 3, 4, 5]\n"
          ],
          "name": "stdout"
        }
      ]
    },
    {
      "cell_type": "code",
      "metadata": {
        "id": "OixBj_Kj_lvc",
        "colab_type": "code",
        "colab": {},
        "outputId": "83cd790b-7e24-4ea9-bb2a-d4449ac636f1"
      },
      "source": [
        "li1=[1,2,\"gitam\",3,4,5,\"hyderabad\",'a']\n",
        "print(li1)"
      ],
      "execution_count": 0,
      "outputs": [
        {
          "output_type": "stream",
          "text": [
            "[1, 2, 'gitam', 3, 4, 5, 'hyderabad', 'a']\n"
          ],
          "name": "stdout"
        }
      ]
    },
    {
      "cell_type": "code",
      "metadata": {
        "id": "wVxhLvxC_lvf",
        "colab_type": "code",
        "colab": {},
        "outputId": "b6e50d31-63e2-44a6-c49a-72808aa008a9"
      },
      "source": [
        "for i in range(len(li)):\n",
        "    print(i, end= ' ')"
      ],
      "execution_count": 0,
      "outputs": [
        {
          "output_type": "stream",
          "text": [
            "0 1 2 3 4 "
          ],
          "name": "stdout"
        }
      ]
    },
    {
      "cell_type": "code",
      "metadata": {
        "id": "yWlfb-m9_lvi",
        "colab_type": "code",
        "colab": {},
        "outputId": "3caa5fa2-bc9c-4e29-8da5-6a08558fcc72"
      },
      "source": [
        "for i in range(len(li)):\n",
        "    print(li[i], end= ' ')"
      ],
      "execution_count": 0,
      "outputs": [
        {
          "output_type": "stream",
          "text": [
            "1 2 3 4 5 "
          ],
          "name": "stdout"
        }
      ]
    },
    {
      "cell_type": "code",
      "metadata": {
        "id": "6IBV1_yf_lvl",
        "colab_type": "code",
        "colab": {},
        "outputId": "9588bb53-a209-45c4-fd3c-ea20d41dd29f"
      },
      "source": [
        "for i in range(1,12):\n",
        "    print(i)\n"
      ],
      "execution_count": 0,
      "outputs": [
        {
          "output_type": "stream",
          "text": [
            "1\n",
            "2\n",
            "3\n",
            "4\n",
            "5\n",
            "6\n",
            "7\n",
            "8\n",
            "9\n",
            "10\n",
            "11\n"
          ],
          "name": "stdout"
        }
      ]
    },
    {
      "cell_type": "code",
      "metadata": {
        "id": "Nh29wo-__lvn",
        "colab_type": "code",
        "colab": {},
        "outputId": "d64edd92-8fae-4bd0-a9aa-ddeec6c957d0"
      },
      "source": [
        "for i in range(0,25,2):\n",
        "    print(i, end = ' ')       # 0 is lower bond,  25 higher bond,  2 is step\n",
        "    "
      ],
      "execution_count": 0,
      "outputs": [
        {
          "output_type": "stream",
          "text": [
            "0 2 4 6 8 10 12 14 16 18 20 22 24 "
          ],
          "name": "stdout"
        }
      ]
    }
  ]
}