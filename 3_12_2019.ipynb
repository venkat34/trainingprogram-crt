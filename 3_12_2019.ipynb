{
  "nbformat": 4,
  "nbformat_minor": 0,
  "metadata": {
    "kernelspec": {
      "display_name": "Python 3",
      "language": "python",
      "name": "python3"
    },
    "colab": {
      "name": "3-12-2019.ipynb",
      "provenance": [],
      "include_colab_link": true
    }
  },
  "cells": [
    {
      "cell_type": "markdown",
      "metadata": {
        "id": "view-in-github",
        "colab_type": "text"
      },
      "source": [
        "<a href=\"https://colab.research.google.com/github/venkat34/trainingprogram-crt/blob/master/3_12_2019.ipynb\" target=\"_parent\"><img src=\"https://colab.research.google.com/assets/colab-badge.svg\" alt=\"Open In Colab\"/></a>"
      ]
    },
    {
      "cell_type": "code",
      "metadata": {
        "id": "NOoVLYQcbJlM",
        "colab_type": "code",
        "outputId": "a4d7e692-cb2e-4a1d-b7c7-33fb706564e7",
        "colab": {}
      },
      "source": [
        "print (\"welcome to python \")"
      ],
      "execution_count": 0,
      "outputs": [
        {
          "output_type": "stream",
          "text": [
            "welcome to python \n"
          ],
          "name": "stdout"
        }
      ]
    },
    {
      "cell_type": "markdown",
      "metadata": {
        "id": "4JNI3_ItbJlQ",
        "colab_type": "text"
      },
      "source": [
        "# #is used for comments\n",
        "number of # detemine the size of comments"
      ]
    },
    {
      "cell_type": "markdown",
      "metadata": {
        "id": "L3-vVNApbJlR",
        "colab_type": "text"
      },
      "source": [
        "- Datat types in python\n",
        "- class - int float str\n",
        "- int\n",
        "- float\n",
        "- str"
      ]
    },
    {
      "cell_type": "code",
      "metadata": {
        "id": "FWVWW4azbJlR",
        "colab_type": "code",
        "outputId": "d59305d8-2023-4170-a854-932f3426c365",
        "colab": {}
      },
      "source": [
        "x=1432\n",
        "print (x)\n",
        "print (type(x))"
      ],
      "execution_count": 0,
      "outputs": [
        {
          "output_type": "stream",
          "text": [
            "1432\n",
            "<class 'int'>\n"
          ],
          "name": "stdout"
        }
      ]
    },
    {
      "cell_type": "code",
      "metadata": {
        "id": "8Y3_t9xSbJlT",
        "colab_type": "code",
        "outputId": "1f42b5af-64ac-4ff4-f430-63691136ae5f",
        "colab": {}
      },
      "source": [
        "x=1432.566\n",
        "print (x)\n",
        "print (type(x))"
      ],
      "execution_count": 0,
      "outputs": [
        {
          "output_type": "stream",
          "text": [
            "1432.566\n",
            "<class 'float'>\n"
          ],
          "name": "stdout"
        }
      ]
    },
    {
      "cell_type": "code",
      "metadata": {
        "id": "vvveLPgjbJlW",
        "colab_type": "code",
        "outputId": "7b82b33c-1187-4e7e-f6a8-d28cddeae17c",
        "colab": {}
      },
      "source": [
        "# in python char is declared as string\n",
        "# for a string single quotes('')or double quotes can(\"\") be used\n",
        "x='venkat'\n",
        "print (x)\n",
        "print (type(x))"
      ],
      "execution_count": 0,
      "outputs": [
        {
          "output_type": "stream",
          "text": [
            "venkat\n",
            "<class 'str'>\n"
          ],
          "name": "stdout"
        }
      ]
    },
    {
      "cell_type": "code",
      "metadata": {
        "id": "t71hntlIbJlY",
        "colab_type": "code",
        "outputId": "d36e4af2-4dfe-4d9a-ff96-723336adaf08",
        "colab": {}
      },
      "source": [
        "x=\"my name is venkat\"\n",
        "print (x)\n",
        "print (type(x))"
      ],
      "execution_count": 0,
      "outputs": [
        {
          "output_type": "stream",
          "text": [
            "my name is venkat\n",
            "<class 'str'>\n"
          ],
          "name": "stdout"
        }
      ]
    },
    {
      "cell_type": "markdown",
      "metadata": {
        "id": "q5LZf5ZnbJlZ",
        "colab_type": "text"
      },
      "source": [
        "## DATATYPE CONVERSION\n",
        "\n",
        "- int()\n",
        "  - int() converts the input into integer class\n",
        "  \n",
        "- str()\n",
        "  - str() converts the input into string class\n",
        "\n",
        "- float()\n",
        "  - float() converts the input into float class"
      ]
    },
    {
      "cell_type": "code",
      "metadata": {
        "id": "Z4DJzXnUbJla",
        "colab_type": "code",
        "outputId": "418e6490-f352-4646-be0d-67d36c04cc47",
        "colab": {}
      },
      "source": [
        "x =  123.23\n",
        "print (x)\n",
        "print (type(x))\n",
        "f =int (x)\n",
        "print (f)\n",
        "print (type(f))"
      ],
      "execution_count": 0,
      "outputs": [
        {
          "output_type": "stream",
          "text": [
            "123.23\n",
            "<class 'float'>\n",
            "123\n",
            "<class 'int'>\n"
          ],
          "name": "stdout"
        }
      ]
    },
    {
      "cell_type": "code",
      "metadata": {
        "id": "zJWJ_a2xbJlc",
        "colab_type": "code",
        "outputId": "3a0b4693-957b-4e6f-83ce-c813399a3a7d",
        "colab": {}
      },
      "source": [
        "x = '12345.67'\n",
        "print (x, end = '')          # if you want the output in a single sentence use another argument(o/p,end='')\n",
        "print (type(x))\n",
        "f= float(x)\n",
        "print (f, end = '')\n",
        "print (type(f))\n",
        "h = int(f)\n",
        "print (h, end = '')\n",
        "print (type(h))"
      ],
      "execution_count": 0,
      "outputs": [
        {
          "output_type": "stream",
          "text": [
            "12345.67<class 'str'>\n",
            "12345.67<class 'float'>\n",
            "12345<class 'int'>\n"
          ],
          "name": "stdout"
        }
      ]
    },
    {
      "cell_type": "markdown",
      "metadata": {
        "id": "Q4FzC-q9bJld",
        "colab_type": "text"
      },
      "source": [
        "## INPUT METHODS OF PYTHON\n",
        "\n",
        "- input() reads the input in terms of string type\n",
        "- conversion methods are used convert into respective types\n",
        "   - like int() float() and str()\n",
        "   "
      ]
    },
    {
      "cell_type": "code",
      "metadata": {
        "id": "EsO6WYYUbJle",
        "colab_type": "code",
        "outputId": "fc04f5bf-b18d-43b8-bac4-4cffe0ce8bdf",
        "colab": {}
      },
      "source": [
        "s=input('enter your name ')\n",
        "print (s,end = '')\n",
        "print (type(s))"
      ],
      "execution_count": 0,
      "outputs": [
        {
          "output_type": "stream",
          "text": [
            "enter your name venkat\n",
            "venkat<class 'str'>\n"
          ],
          "name": "stdout"
        }
      ]
    },
    {
      "cell_type": "code",
      "metadata": {
        "id": "Bnom8-89bJlg",
        "colab_type": "code",
        "outputId": "2989499b-c76f-43c6-9755-568785e9d5ff",
        "colab": {}
      },
      "source": [
        "s=input('enter your name ')\n",
        "print (s,end = '')\n",
        "print (type(s))"
      ],
      "execution_count": 0,
      "outputs": [
        {
          "output_type": "stream",
          "text": [
            "enter your name 10\n",
            "10<class 'str'>\n"
          ],
          "name": "stdout"
        }
      ]
    },
    {
      "cell_type": "code",
      "metadata": {
        "id": "xrt92Y8vbJlh",
        "colab_type": "code",
        "outputId": "feb5518d-adf9-4d3f-8e70-1bd3bc964b7f",
        "colab": {}
      },
      "source": [
        "h = int(input(''))\n",
        "print (h,end = '')\n",
        "print (type(h))"
      ],
      "execution_count": 0,
      "outputs": [
        {
          "output_type": "stream",
          "text": [
            "19\n",
            "19<class 'int'>\n"
          ],
          "name": "stdout"
        }
      ]
    },
    {
      "cell_type": "code",
      "metadata": {
        "id": "a-pUwVtsbJlj",
        "colab_type": "code",
        "outputId": "da722e13-e6a9-4658-f6f7-698fcf1c512d",
        "colab": {}
      },
      "source": [
        "h = float(input(''))\n",
        "print (h,end = '')\n",
        "print (type(h))"
      ],
      "execution_count": 0,
      "outputs": [
        {
          "output_type": "stream",
          "text": [
            "12.45\n",
            "12.45<class 'float'>\n"
          ],
          "name": "stdout"
        }
      ]
    },
    {
      "cell_type": "markdown",
      "metadata": {
        "id": "3_n7NZRObJll",
        "colab_type": "text"
      },
      "source": [
        "## CONTROL FLOW STATEMENTS\n",
        "\n",
        "- conditional statements\n",
        "   - if-else\n",
        "- looping statements\n",
        "   - while\n",
        "   - for"
      ]
    },
    {
      "cell_type": "code",
      "metadata": {
        "id": "g4WjnPI1bJlm",
        "colab_type": "code",
        "colab": {}
      },
      "source": [
        "# if Boolean_condition :\n",
        "#     statements\n",
        "# else :\n",
        "#     statements"
      ],
      "execution_count": 0,
      "outputs": []
    },
    {
      "cell_type": "code",
      "metadata": {
        "id": "3Zfnw6QAbJlo",
        "colab_type": "code",
        "outputId": "3f204e49-8c3a-472a-92fe-81266765505b",
        "colab": {}
      },
      "source": [
        "a = int(input(''))\n",
        "if a%2==0:\n",
        "    print(\"even nember\")\n",
        "else:\n",
        "    print(\"odd number\")\n",
        "    "
      ],
      "execution_count": 0,
      "outputs": [
        {
          "output_type": "stream",
          "text": [
            "7\n",
            "odd number\n"
          ],
          "name": "stdout"
        }
      ]
    },
    {
      "cell_type": "code",
      "metadata": {
        "id": "qI6I6OAnbJlp",
        "colab_type": "code",
        "outputId": "c56395a3-41b5-4220-a14a-3dbcc4b1a165",
        "colab": {}
      },
      "source": [
        "z = int(input('age of person= '))\n",
        "if 18<=z<=85:\n",
        "    print(\"eligible\")\n",
        "else :\n",
        "    print(\"not eligible\")"
      ],
      "execution_count": 0,
      "outputs": [
        {
          "output_type": "stream",
          "text": [
            "age of person= 56\n",
            "eligible\n"
          ],
          "name": "stdout"
        }
      ]
    },
    {
      "cell_type": "code",
      "metadata": {
        "id": "JZauuwc6bJlr",
        "colab_type": "code",
        "outputId": "f5471d86-7459-4403-d368-09202711f804",
        "colab": {}
      },
      "source": [
        "z = int(input('age of person= '))\n",
        "if z>=18 and z<=85:\n",
        "    print(\"eligible\")\n",
        "else :\n",
        "    print(\"not eligible\")"
      ],
      "execution_count": 0,
      "outputs": [
        {
          "output_type": "stream",
          "text": [
            "age of person= 12\n",
            "not eligible\n"
          ],
          "name": "stdout"
        }
      ]
    },
    {
      "cell_type": "code",
      "metadata": {
        "id": "sPoE9CiHbJlt",
        "colab_type": "code",
        "outputId": "49930f9d-e918-465a-bade-e0567b087689",
        "colab": {}
      },
      "source": [
        "a = 10\n",
        "b = 3\n",
        "print (a+b)  # add\n",
        "print (a-b)  # subtract\n",
        "print (a/b)  # division with decimal\n",
        "print (a//b) # division with only integer value\n",
        "print (a%b)  # modular division output remainder\n",
        "print (a*b)  # multiply\n",
        "print (a**b) # power\n"
      ],
      "execution_count": 0,
      "outputs": [
        {
          "output_type": "stream",
          "text": [
            "13\n",
            "7\n",
            "3.3333333333333335\n",
            "3\n",
            "1\n",
            "30\n",
            "1000\n"
          ],
          "name": "stdout"
        }
      ]
    },
    {
      "cell_type": "code",
      "metadata": {
        "id": "KEa4_B3zbJlv",
        "colab_type": "code",
        "outputId": "ee4deb24-535a-48b8-998c-9c4decc79fa5",
        "colab": {}
      },
      "source": [
        "if True:\n",
        "    print ('hello')\n",
        "else :\n",
        "    print ('bye')"
      ],
      "execution_count": 0,
      "outputs": [
        {
          "output_type": "stream",
          "text": [
            "hello\n"
          ],
          "name": "stdout"
        }
      ]
    },
    {
      "cell_type": "markdown",
      "metadata": {
        "id": "pTkN_qtDbJlw",
        "colab_type": "text"
      },
      "source": [
        "### give two inputs if a is greater than b , find square of b and vice versa"
      ]
    },
    {
      "cell_type": "code",
      "metadata": {
        "id": "LPbrhtIFbJlx",
        "colab_type": "code",
        "outputId": "e4069d13-3ead-48a9-bf21-61db594df3d8",
        "colab": {}
      },
      "source": [
        "a = int(input(''))\n",
        "b = int(input(''))\n",
        "if a>b:\n",
        "    c=b*b\n",
        "    print(c)\n",
        "else :\n",
        "    d=a*a\n",
        "    print(d)"
      ],
      "execution_count": 0,
      "outputs": [
        {
          "output_type": "stream",
          "text": [
            "5\n",
            "4\n",
            "16\n"
          ],
          "name": "stdout"
        }
      ]
    },
    {
      "cell_type": "code",
      "metadata": {
        "id": "xZ878YnTbJlz",
        "colab_type": "code",
        "outputId": "9d5f5284-6bcf-4881-8581-2eae6367f125",
        "colab": {}
      },
      "source": [
        "a = int(input(''))\n",
        "r = a%10\n",
        "q = a//10\n",
        "if r>q:\n",
        "    c=q*q\n",
        "    print(c)\n",
        "else :\n",
        "    d=r*r\n",
        "    print(d)"
      ],
      "execution_count": 0,
      "outputs": [
        {
          "output_type": "stream",
          "text": [
            "34\n",
            "9\n"
          ],
          "name": "stdout"
        }
      ]
    },
    {
      "cell_type": "markdown",
      "metadata": {
        "id": "BhMLtaEjbJl2",
        "colab_type": "text"
      },
      "source": [
        "- Read an input\n",
        "- give output if positive, negative,zero"
      ]
    },
    {
      "cell_type": "code",
      "metadata": {
        "id": "Txtd0lWhbJl3",
        "colab_type": "code",
        "outputId": "8774bfe7-abed-4c73-d79d-46afab1da0cb",
        "colab": {}
      },
      "source": [
        "a = int(input(''))\n",
        "if a<0:\n",
        "    print (\"negative\")\n",
        "elif a==0:\n",
        "    print (\"zero\")\n",
        "else :\n",
        "    print (\"positive\")"
      ],
      "execution_count": 0,
      "outputs": [
        {
          "output_type": "stream",
          "text": [
            "-3\n",
            "negative\n"
          ],
          "name": "stdout"
        }
      ]
    },
    {
      "cell_type": "code",
      "metadata": {
        "id": "zOF-wWVjbJl5",
        "colab_type": "code",
        "colab": {}
      },
      "source": [
        "# ++ and -- symbols will not work in python programming\n",
        "\n",
        "# while boolean condition :\n",
        "#            statements"
      ],
      "execution_count": 0,
      "outputs": []
    },
    {
      "cell_type": "code",
      "metadata": {
        "id": "LYrgteAgbJl7",
        "colab_type": "code",
        "outputId": "e3035829-8f63-4568-925f-dbbb180d7ffc",
        "colab": {}
      },
      "source": [
        "# print the numbers from 1 to 10\n",
        "a=1\n",
        "while a <= 10:\n",
        "    print (a, end  = ' ')\n",
        "    a = a + 1 # or a+=1"
      ],
      "execution_count": 0,
      "outputs": [
        {
          "output_type": "stream",
          "text": [
            "1 2 3 4 5 6 7 8 9 10 "
          ],
          "name": "stdout"
        }
      ]
    },
    {
      "cell_type": "code",
      "metadata": {
        "id": "Ty0IQI_3bJl8",
        "colab_type": "code",
        "outputId": "42e4e3dd-9b2f-4166-93ec-8be28c7e7cff",
        "colab": {}
      },
      "source": [
        "n = int(input(''))\n",
        "s=0\n",
        "sum=0\n",
        "while s<=n:\n",
        "    sum=s+sum\n",
        "    s=s+1\n",
        "print (sum)"
      ],
      "execution_count": 0,
      "outputs": [
        {
          "output_type": "stream",
          "text": [
            "10\n",
            "55\n"
          ],
          "name": "stdout"
        }
      ]
    },
    {
      "cell_type": "code",
      "metadata": {
        "id": "YU_8GkX9bJl-",
        "colab_type": "code",
        "outputId": "1bd3a94c-638a-4a94-abf5-c87a153749ad",
        "colab": {}
      },
      "source": [
        "n = int(input(''))\n",
        "k=2\n",
        "while k<=n:\n",
        "    print(k, end = ' ')\n",
        "    k=k+2"
      ],
      "execution_count": 0,
      "outputs": [
        {
          "output_type": "stream",
          "text": [
            "10\n",
            "2 4 6 8 10 "
          ],
          "name": "stdout"
        }
      ]
    },
    {
      "cell_type": "code",
      "metadata": {
        "id": "MpQ43FnrbJmA",
        "colab_type": "code",
        "outputId": "c9bea727-8037-4c01-b3fc-ed4ea5ea43e0",
        "colab": {}
      },
      "source": [
        "n= int(input(''))\n",
        "i=1\n",
        "while i<=n:\n",
        "    if  n%i==0:\n",
        "        print (i)\n",
        "    i=i+1"
      ],
      "execution_count": 0,
      "outputs": [
        {
          "output_type": "stream",
          "text": [
            "10\n",
            "1\n",
            "2\n",
            "5\n",
            "10\n"
          ],
          "name": "stdout"
        }
      ]
    },
    {
      "cell_type": "code",
      "metadata": {
        "id": "IhafR_yKbJmC",
        "colab_type": "code",
        "colab": {}
      },
      "source": [
        ""
      ],
      "execution_count": 0,
      "outputs": []
    }
  ]
}